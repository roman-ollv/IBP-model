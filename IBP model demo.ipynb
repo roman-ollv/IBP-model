{
 "cells": [
  {
   "cell_type": "markdown",
   "id": "66345556-9059-4c1d-ba75-f78a694eb195",
   "metadata": {},
   "source": [
    "# Ionospheric Bubble Probability (IBP)\n",
    "\n",
    "The ionospheric bubble probability statistical model is a Swarm L2 product, named IBP_CLI. The output of the Ionospheric Bubble Probability (IBP) product is an index, that depends  on the day of year or the month of the year, geographic longitude, local time and solar flux index.\n",
    "Detailed documentation can be found [here](https://ibp-model.readthedocs.io)\n",
    "\n",
    "To use this notebook, you will need to install the `ibpmodel` package. The `ibpmodel` package provides functionality for the visualization and analysis of butterfly data.\n",
    "To install the package, you can run the following command in a code cell:"
   ]
  },
  {
   "cell_type": "code",
   "execution_count": 1,
   "id": "2b51f36e-465b-49c2-857d-cca747d18da2",
   "metadata": {},
   "outputs": [
    {
     "name": "stdout",
     "output_type": "stream",
     "text": [
      "Requirement already satisfied: ibpmodel in /opt/conda/lib/python3.9/site-packages (1.2.0)\n",
      "Requirement already satisfied: numpy>=1.18 in /opt/conda/lib/python3.9/site-packages (from ibpmodel) (1.21.5)\n",
      "Requirement already satisfied: cdflib>=0.3.5 in /opt/conda/lib/python3.9/site-packages (from ibpmodel) (0.3.20)\n",
      "Requirement already satisfied: scipy>=1.4 in /opt/conda/lib/python3.9/site-packages (from ibpmodel) (1.8.0)\n",
      "Requirement already satisfied: pandas>=1.4 in /opt/conda/lib/python3.9/site-packages (from ibpmodel) (1.4.1)\n",
      "Requirement already satisfied: matplotlib>=2.2 in /opt/conda/lib/python3.9/site-packages (from ibpmodel) (3.5.1)\n",
      "Requirement already satisfied: attrs>=19.2.0 in /opt/conda/lib/python3.9/site-packages (from cdflib>=0.3.5->ibpmodel) (21.4.0)\n",
      "Requirement already satisfied: cycler>=0.10 in /opt/conda/lib/python3.9/site-packages (from matplotlib>=2.2->ibpmodel) (0.11.0)\n",
      "Requirement already satisfied: fonttools>=4.22.0 in /opt/conda/lib/python3.9/site-packages (from matplotlib>=2.2->ibpmodel) (4.29.1)\n",
      "Requirement already satisfied: kiwisolver>=1.0.1 in /opt/conda/lib/python3.9/site-packages (from matplotlib>=2.2->ibpmodel) (1.3.2)\n",
      "Requirement already satisfied: packaging>=20.0 in /opt/conda/lib/python3.9/site-packages (from matplotlib>=2.2->ibpmodel) (21.3)\n",
      "Requirement already satisfied: pillow>=6.2.0 in /opt/conda/lib/python3.9/site-packages (from matplotlib>=2.2->ibpmodel) (9.0.1)\n",
      "Requirement already satisfied: pyparsing>=2.2.1 in /opt/conda/lib/python3.9/site-packages (from matplotlib>=2.2->ibpmodel) (3.0.7)\n",
      "Requirement already satisfied: python-dateutil>=2.7 in /opt/conda/lib/python3.9/site-packages (from matplotlib>=2.2->ibpmodel) (2.8.2)\n",
      "Requirement already satisfied: pytz>=2020.1 in /opt/conda/lib/python3.9/site-packages (from pandas>=1.4->ibpmodel) (2021.3)\n",
      "Requirement already satisfied: six>=1.5 in /opt/conda/lib/python3.9/site-packages (from python-dateutil>=2.7->matplotlib>=2.2->ibpmodel) (1.16.0)\n",
      "Note: you may need to restart the kernel to use updated packages.\n"
     ]
    }
   ],
   "source": [
    "pip install ibpmodel"
   ]
  },
  {
   "cell_type": "markdown",
   "id": "f9e0ed36-b5d4-4978-b4d8-7ba7d45777f8",
   "metadata": {},
   "source": [
    "## Parameters available for changing\n",
    "\n",
    "| Parameter | Description | \n",
    "|---|---|\n",
    "|`Month Dropdown`| This dropdown allows you to select a specific month. Changing the month will update the Day of Year (DOY) Slider to reflect the first day of the selected month. \n",
    "|`Day of Year (DOY) Slider`| This slider allows you to select a specific day of the year. The value represents the day count from January 1st to December 31st. Changing the DOY will update the Month Dropdown to reflect the corresponding month. Additionally, it will update the plot to display the IBP index for the selected DOY and the current value of the f107 slider.\n",
    "|`f107 Slider`| This slider represents a solar activity parameter. Changing its value will update the plot to display the IBP index for the selected DOY and the new value of f107. The f107 parameter affects the intensity of the IBP index plot."
   ]
  },
  {
   "cell_type": "markdown",
   "id": "5c7596ea-b742-4b73-a2e1-952340935050",
   "metadata": {},
   "source": [
    "## IBP index\n",
    "This plot visualizes the IBP index based on the selected day of the year (DOY) and solar activity parameter (f107). You can interact with the plot using the following options: `Month Dropdown`, `Day of Year (DOY) Slider`, `f107 Slider`.  \n",
    "By modifying these options, you can explore different combinations of month, day, and solar activity to observe the variations in the IBP index. The plot is updated in real-time as you change these values."
   ]
  },
  {
   "cell_type": "code",
   "execution_count": 2,
   "id": "b886dc86-ea8c-4de0-97b6-6408903aabba",
   "metadata": {},
   "outputs": [
    {
     "data": {
      "application/vnd.jupyter.widget-view+json": {
       "model_id": "c8e2a6cd55af4844b161fba360adea23",
       "version_major": 2,
       "version_minor": 0
      },
      "text/plain": [
       "Dropdown(description='Month:', options=('January', 'February', 'March', 'April', 'May', 'June', 'July', 'Augus…"
      ]
     },
     "metadata": {},
     "output_type": "display_data"
    },
    {
     "data": {
      "application/vnd.jupyter.widget-view+json": {
       "model_id": "5fe665055b9e47e0979d53286fb1c5af",
       "version_major": 2,
       "version_minor": 0
      },
      "text/plain": [
       "IntSlider(value=1, continuous_update=False, description='Day of year:', layout=Layout(width='30%'), max=365, m…"
      ]
     },
     "metadata": {},
     "output_type": "display_data"
    },
    {
     "data": {
      "application/vnd.jupyter.widget-view+json": {
       "model_id": "d8d59df9d7e04e6abb520dd08b562e2d",
       "version_major": 2,
       "version_minor": 0
      },
      "text/plain": [
       "IntSlider(value=150, continuous_update=False, description='f107:', layout=Layout(width='30%'), max=180, min=50…"
      ]
     },
     "metadata": {},
     "output_type": "display_data"
    },
    {
     "data": {
      "application/vnd.jupyter.widget-view+json": {
       "model_id": "7222b9ffc2eb4bfc9861ecb156e57b31",
       "version_major": 2,
       "version_minor": 0
      },
      "text/plain": [
       "Output()"
      ]
     },
     "metadata": {},
     "output_type": "display_data"
    }
   ],
   "source": [
    "import ipywidgets as widgets\n",
    "import matplotlib.pyplot as plt\n",
    "import ibpmodel as ibp\n",
    "from IPython.display import clear_output, display\n",
    "import numpy as np\n",
    "import datetime\n",
    "import bisect\n",
    "\n",
    "def _cumsum(values):\n",
    "    sum_value = 0\n",
    "    for value in values:\n",
    "        sum_value += value\n",
    "        yield sum_value\n",
    "\n",
    "MONTHS_LASTDAYS = list(_cumsum([31, 28, 31, 30, 31, 30, 31, 31, 30, 31, 30, 31]))\n",
    "MONTHS_LASTDAYS_ARRAY = np.cumsum([31, 28, 31, 30, 31, 30, 31, 31, 30, 31, 30, 31])\n",
    "\n",
    "MONTHS = [\n",
    "    \"January\", \"February\", \"March\", \"April\", \"May\", \"June\",\n",
    "    \"July\", \"August\", \"September\", \"October\", \"November\", \"December\",\n",
    "]\n",
    "\n",
    "\n",
    "def doy_to_month_bisect(doy):\n",
    "    # O(log N) complexity - finds the month in 3-4 iterations\n",
    "    start_index, end_index = 0, 11\n",
    "    while start_index != end_index:\n",
    "        new_index = start_index + (end_index - start_index) // 2\n",
    "        if doy <= MONTHS_LASTDAYS[new_index]:\n",
    "            end_index = new_index\n",
    "        else:\n",
    "            start_index = new_index + 1\n",
    "    return start_index\n",
    "\n",
    "def plot_IBP_index(doy, f107):\n",
    "    ibp.plotIBPindex(doy=doy, f107=f107, cmap='viridis', alpha=0.9)\n",
    "    plt.show()\n",
    "\n",
    "output = widgets.Output()\n",
    "\n",
    "month_dropdown = widgets.Dropdown(\n",
    "    options=MONTHS,\n",
    "    description='Month:'\n",
    ")\n",
    "\n",
    "doy_slider = widgets.IntSlider(\n",
    "    value=1,\n",
    "    min=1,\n",
    "    max=365,\n",
    "    step=1,\n",
    "    description='Day of year:',\n",
    "    continuous_update=False,\n",
    "    orientation='horizontal',\n",
    "    readout=True,\n",
    "    readout_format='d',\n",
    "    layout=widgets.Layout(width='30%') \n",
    ")\n",
    "\n",
    "solar_slider = widgets.IntSlider(\n",
    "    value=150,\n",
    "    min=50,\n",
    "    max=180,\n",
    "    step=10,\n",
    "    description='f107:',\n",
    "    continuous_update=False,\n",
    "    orientation='horizontal',\n",
    "    readout=True,\n",
    "    readout_format='d',\n",
    "    layout=widgets.Layout(width='30%')\n",
    ")\n",
    "initial_plot_shown = False\n",
    "\n",
    "def update_plot(change):\n",
    "    global initial_plot_shown \n",
    "    doy = doy_slider.value\n",
    "    f107 = solar_slider.value\n",
    "    with output:\n",
    "        clear_output(wait=True)\n",
    "        if not initial_plot_shown:\n",
    "            plot_IBP_index(doy_slider.value, solar_slider.value)\n",
    "            initial_plot_shown = False\n",
    "\n",
    "def update_dropdown(change):\n",
    "    doy = doy_slider.value\n",
    "    month = MONTHS[doy_to_month_bisect(doy)]\n",
    "    month_dropdown.value = month\n",
    "    if doy_slider.value != doy:\n",
    "        doy_slider.value = doy\n",
    "\n",
    "def update_slider(change):\n",
    "    if month_dropdown.value != MONTHS[doy_to_month_bisect(doy_slider.value)]:\n",
    "        month = month_dropdown.value\n",
    "        month_idx = MONTHS.index(month)\n",
    "        doy_range = range(MONTHS_LASTDAYS[month_idx - 1] + 1, MONTHS_LASTDAYS[month_idx] + 1)\n",
    "        doy_slider.value = doy_range.start\n",
    "\n",
    "display(month_dropdown, doy_slider, solar_slider, output)\n",
    "\n",
    "doy_slider.observe(update_dropdown, names='value')\n",
    "month_dropdown.observe(update_slider, names='value')\n",
    "doy_slider.observe(update_plot, names='value')\n",
    "solar_slider.observe(update_plot, names='value')\n",
    "\n",
    "update_plot(None)"
   ]
  },
  {
   "cell_type": "markdown",
   "id": "8ac48512-cb4d-4a0f-9d0a-4df9ac125843",
   "metadata": {},
   "source": [
    "## IBP index comparation\n",
    "\n",
    "Here are a few additions and modifications compared to the previous plot. \n",
    "\n",
    "The overall functionality of the code remains the same. You can select a `month` from the dropdown, adjust the `day of the year (DOY)` using the slider, and modify the solar activity parameter `f107` with the corresponding slider. The plot is updated only by clicking the `Add Plot` button - the it add plot with newly setted values below default plot. By clicking the `Clear Plots` button it returns you to default plot what gives opportunity to have a new set of plots to compare.\n",
    "\n",
    "The main difference in this version is the ability to add and compare multiple plots on separate subplots within the same figure."
   ]
  },
  {
   "cell_type": "code",
   "execution_count": 3,
   "id": "e7f574d3-a9fb-4829-ad34-19ecd599420a",
   "metadata": {},
   "outputs": [
    {
     "data": {
      "application/vnd.jupyter.widget-view+json": {
       "model_id": "28ea0ed237bf46778a7f02da782db0da",
       "version_major": 2,
       "version_minor": 0
      },
      "text/plain": [
       "Dropdown(description='Month:', options=('January', 'February', 'March', 'April', 'May', 'June', 'July', 'Augus…"
      ]
     },
     "metadata": {},
     "output_type": "display_data"
    },
    {
     "data": {
      "application/vnd.jupyter.widget-view+json": {
       "model_id": "fa31cebfccc846a8bc9e0e6bc26bb743",
       "version_major": 2,
       "version_minor": 0
      },
      "text/plain": [
       "IntSlider(value=1, continuous_update=False, description='Day of year:', layout=Layout(width='30%'), max=365, m…"
      ]
     },
     "metadata": {},
     "output_type": "display_data"
    },
    {
     "data": {
      "application/vnd.jupyter.widget-view+json": {
       "model_id": "134aa2b74ace486aa167435a48b27d53",
       "version_major": 2,
       "version_minor": 0
      },
      "text/plain": [
       "IntSlider(value=150, continuous_update=False, description='f107:', layout=Layout(width='30%'), max=180, min=50…"
      ]
     },
     "metadata": {},
     "output_type": "display_data"
    },
    {
     "data": {
      "application/vnd.jupyter.widget-view+json": {
       "model_id": "1d71696017df48749d456f4cf8bb43f4",
       "version_major": 2,
       "version_minor": 0
      },
      "text/plain": [
       "Output()"
      ]
     },
     "metadata": {},
     "output_type": "display_data"
    },
    {
     "data": {
      "application/vnd.jupyter.widget-view+json": {
       "model_id": "2195a9cbfde44b0ba708fda5710b98f0",
       "version_major": 2,
       "version_minor": 0
      },
      "text/plain": [
       "Button(button_style='success', description='Add Plot', style=ButtonStyle())"
      ]
     },
     "metadata": {},
     "output_type": "display_data"
    },
    {
     "data": {
      "application/vnd.jupyter.widget-view+json": {
       "model_id": "d4084c88b15f4040bffd4b2199742271",
       "version_major": 2,
       "version_minor": 0
      },
      "text/plain": [
       "Button(button_style='warning', description='Clear Plots', style=ButtonStyle())"
      ]
     },
     "metadata": {},
     "output_type": "display_data"
    }
   ],
   "source": [
    "import ipywidgets as widgets\n",
    "import matplotlib.pyplot as plt\n",
    "import ibpmodel as ibp\n",
    "from IPython.display import clear_output, display\n",
    "import numpy as np\n",
    "import datetime\n",
    "import bisect\n",
    "\n",
    "def _cumsum(values):\n",
    "    sum_value = 0\n",
    "    for value in values:\n",
    "        sum_value += value\n",
    "        yield sum_value\n",
    "\n",
    "MONTHS_LASTDAYS = list(_cumsum([31, 28, 31, 30, 31, 30, 31, 31, 30, 31, 30, 31]))\n",
    "MONTHS_LASTDAYS_ARRAY = np.cumsum([31, 28, 31, 30, 31, 30, 31, 31, 30, 31, 30, 31])\n",
    "\n",
    "MONTHS = [\n",
    "    \"January\", \"February\", \"March\", \"April\", \"May\", \"June\",\n",
    "    \"July\", \"August\", \"September\", \"October\", \"November\", \"December\",\n",
    "]\n",
    "\n",
    "\n",
    "def doy_to_month_bisect(doy):\n",
    "    # O(log N) complexity - finds the month in 3-4 iterations\n",
    "    start_index, end_index = 0, 11\n",
    "    while start_index != end_index:\n",
    "        new_index = start_index + (end_index - start_index) // 2\n",
    "        if doy <= MONTHS_LASTDAYS[new_index]:\n",
    "            end_index = new_index\n",
    "        else:\n",
    "            start_index = new_index + 1\n",
    "    return start_index\n",
    "\n",
    "fig, ax = plt.subplots(constrained_layout=False)\n",
    "plots = [ax]\n",
    "\n",
    "initial_plot_shown = False\n",
    "\n",
    "def plot_IBP_index(doy, f107):\n",
    "    ax = plt.gca()\n",
    "    ibp.plotIBPindex(doy=doy, f107=f107, cmap='viridis', alpha=0.9, ax=ax)\n",
    "    plt.show()\n",
    "\n",
    "output = widgets.Output()\n",
    "\n",
    "def update_plot(change):\n",
    "    global initial_plot_shown\n",
    "    doy = doy_slider.value\n",
    "    f107 = solar_slider.value\n",
    "    with output:\n",
    "        if not initial_plot_shown:\n",
    "            plot_IBP_index(doy, f107)\n",
    "            initial_plot_shown = False\n",
    "\n",
    "def add_button_clicked(button):\n",
    "    doy = doy_slider.value\n",
    "    f107 = solar_slider.value\n",
    "    with output:\n",
    "        new_ax = fig.add_subplot(111, sharex=ax, sharey=ax)\n",
    "        plots.append(new_ax)\n",
    "        plot_IBP_index(doy, f107)\n",
    "\n",
    "def clear_button_clicked(button):\n",
    "    doy_slider.value = 1\n",
    "    solar_slider.value = 150\n",
    "    month_dropdown.value = MONTHS[0]\n",
    "    for plot in plots:\n",
    "        plot.clear()\n",
    "    plots.clear()\n",
    "    plots.append(ax)\n",
    "    with output:\n",
    "        clear_output(wait=False)\n",
    "        plot_IBP_index(1,150)\n",
    "\n",
    "\n",
    "month_dropdown = widgets.Dropdown(\n",
    "    options=MONTHS,\n",
    "    description='Month:'\n",
    ")\n",
    "\n",
    "doy_slider = widgets.IntSlider(\n",
    "    value=1,\n",
    "    min=1,\n",
    "    max=365,\n",
    "    step=1,\n",
    "    description='Day of year:',\n",
    "    continuous_update=False,\n",
    "    orientation='horizontal',\n",
    "    readout=True,\n",
    "    readout_format='d',\n",
    "    layout=widgets.Layout(width='30%') \n",
    ")\n",
    "\n",
    "solar_slider = widgets.IntSlider(\n",
    "    value=150,\n",
    "    min=50,\n",
    "    max=180,\n",
    "    step=10,\n",
    "    description='f107:',\n",
    "    continuous_update=False,\n",
    "    orientation='horizontal',\n",
    "    readout=True,\n",
    "    readout_format='d',\n",
    "    layout=widgets.Layout(width='30%')\n",
    ")\n",
    "\n",
    "add_button = widgets.Button(description='Add Plot', button_style='success')\n",
    "add_button.on_click(add_button_clicked)\n",
    "\n",
    "clear_button = widgets.Button(description='Clear Plots', button_style='warning')\n",
    "clear_button.on_click(clear_button_clicked)\n",
    "\n",
    "\n",
    "def update_dropdown(change):\n",
    "    doy = doy_slider.value\n",
    "    month = MONTHS[doy_to_month_bisect(doy)]\n",
    "    month_dropdown.value = month\n",
    "    if doy_slider.value != doy:\n",
    "        doy_slider.value = doy  \n",
    "\n",
    "    \n",
    "def update_slider(change):\n",
    "    if month_dropdown.value != MONTHS[doy_to_month_bisect(doy_slider.value)]:\n",
    "        month = month_dropdown.value\n",
    "        month_idx = MONTHS.index(month)\n",
    "        doy_range = range(MONTHS_LASTDAYS[month_idx - 1] + 1, MONTHS_LASTDAYS[month_idx] + 1)\n",
    "        doy_slider.value = doy_range.start\n",
    "        \n",
    "display(month_dropdown, doy_slider, solar_slider, output,add_button, clear_button)\n",
    "\n",
    "doy_slider.observe(update_dropdown, names='value')\n",
    "month_dropdown.observe(update_slider, names='value')\n",
    "\n",
    "update_plot(None)"
   ]
  },
  {
   "cell_type": "markdown",
   "id": "67acff94-6f40-429f-be85-35bb8d37e7b9",
   "metadata": {},
   "source": [
    "## Plot Butterfly Data\n",
    "\n",
    "This plot is used to visualize the monthly IBP index over different months. It shows the relationship between the months of the year and the corresponding IBP index values. By changing `f107` slider you can see dependency of IBP index to solar activity."
   ]
  },
  {
   "cell_type": "code",
   "execution_count": 4,
   "id": "8c9f9a58-aaa2-4140-9cb0-1878c7f19452",
   "metadata": {},
   "outputs": [
    {
     "data": {
      "application/vnd.jupyter.widget-view+json": {
       "model_id": "d8f7fd0dcd79483fa5c73639dafed892",
       "version_major": 2,
       "version_minor": 0
      },
      "text/plain": [
       "IntSlider(value=150, continuous_update=False, description='f107:', layout=Layout(width='30%'), max=180, min=50…"
      ]
     },
     "metadata": {},
     "output_type": "display_data"
    },
    {
     "data": {
      "application/vnd.jupyter.widget-view+json": {
       "model_id": "94951f431d0540b4bbe7a7772667ff7a",
       "version_major": 2,
       "version_minor": 0
      },
      "text/plain": [
       "Output()"
      ]
     },
     "metadata": {},
     "output_type": "display_data"
    }
   ],
   "source": [
    "import ipywidgets as widgets\n",
    "import matplotlib.pyplot as plt\n",
    "import ibpmodel as ibp\n",
    "from IPython.display import clear_output, display\n",
    "\n",
    "output = widgets.Output()\n",
    "\n",
    "def plot_butterfly_data(f107):\n",
    "    with output:\n",
    "        clear_output(wait=True)\n",
    "        ibp.plotButterflyData(f107)\n",
    "\n",
    "def update_plot(change):\n",
    "    f107 = solar_slider.value\n",
    "    with output:\n",
    "        clear_output(wait=True)\n",
    "        plot_butterfly_data(f107)\n",
    "\n",
    "solar_slider = widgets.IntSlider(\n",
    "    value=150,\n",
    "    min=50,\n",
    "    max=180,\n",
    "    step=10,\n",
    "    description='f107:',\n",
    "    continuous_update=False,\n",
    "    orientation='horizontal',\n",
    "    readout=True,\n",
    "    readout_format='d',\n",
    "    layout=widgets.Layout(width='30%')\n",
    ")\n",
    "\n",
    "display(solar_slider, output)\n",
    "solar_slider.observe(update_plot, names='value')\n",
    "plot_butterfly_data(solar_slider.value)\n"
   ]
  },
  {
   "cell_type": "markdown",
   "id": "f8e73357-45bb-46c3-a324-8f13db06a9a8",
   "metadata": {},
   "source": [
    "## Butterfly Data comparation\n",
    "\n",
    "Here are a few additions and modifications compared to the previous plot. \n",
    "\n",
    "The overall functionality of the code remains the same. You can modify the solar activity parameter `f107` with the corresponding slider. But also you are able to compare data takind different `f107` values. By enabling the `Show multiple plots` checkbox it returns you to set of checkboxes with value of f107 from 50 to 180, enabling/disabling which gives you opportunity to have a new set of plots to compare.\n",
    "\n",
    "The main difference in this version is the ability to not only change plot in real time but also compare multiple plots on separate subplots within the same figure."
   ]
  },
  {
   "cell_type": "code",
   "execution_count": 5,
   "id": "80aad23e-5995-4eb5-b562-1003c438ec3a",
   "metadata": {},
   "outputs": [
    {
     "data": {
      "application/vnd.jupyter.widget-view+json": {
       "model_id": "5420ec3535654de0bd620df4541a4337",
       "version_major": 2,
       "version_minor": 0
      },
      "text/plain": [
       "Checkbox(value=False, description='Show multiple plots')"
      ]
     },
     "metadata": {},
     "output_type": "display_data"
    },
    {
     "data": {
      "application/vnd.jupyter.widget-view+json": {
       "model_id": "aa1acbba06134e4cb3a207da0eb9d281",
       "version_major": 2,
       "version_minor": 0
      },
      "text/plain": [
       "IntSlider(value=150, continuous_update=False, description='f107:', layout=Layout(visibility='visible', width='…"
      ]
     },
     "metadata": {},
     "output_type": "display_data"
    },
    {
     "data": {
      "application/vnd.jupyter.widget-view+json": {
       "model_id": "de384f15b58148dda7e1c7508db5f2d2",
       "version_major": 2,
       "version_minor": 0
      },
      "text/plain": [
       "Output()"
      ]
     },
     "metadata": {},
     "output_type": "display_data"
    }
   ],
   "source": [
    "import ipywidgets as widgets\n",
    "import matplotlib.pyplot as plt\n",
    "import ibpmodel as ibp\n",
    "from IPython.display import clear_output, display\n",
    "import numpy as np\n",
    "\n",
    "output = widgets.Output()\n",
    "\n",
    "def plot_butterfly_data(f107_values, ax=None):\n",
    "    with output:\n",
    "        for f107 in f107_values:\n",
    "            ibp.plotButterflyData(f107, ax=ax)\n",
    "\n",
    "show_multiple_plots_checkbox = widgets.Checkbox(description='Show multiple plots')\n",
    "initial_plot_shown = False\n",
    "\n",
    "def update_plot(f107):\n",
    "    global initial_plot_shown\n",
    "    with output:\n",
    "        clear_output(wait=True)\n",
    "        if not show_multiple_plots_checkbox.value:\n",
    "            f107 = solar_slider.value\n",
    "            solar_slider.layout.visibility = 'visible'\n",
    "            if not initial_plot_shown:\n",
    "                plot_butterfly_data([f107])\n",
    "        else:\n",
    "            solar_slider.layout.visibility = 'hidden'\n",
    "            clear_output(wait=True)\n",
    "            checkboxes = []\n",
    "            for value in range(50, 181, 10):\n",
    "                checkbox = widgets.Checkbox(value=False, description=str(value))\n",
    "                checkbox.layout.width = 'auto' \n",
    "                checkboxes.append(checkbox)\n",
    "            def show_selected_plots(change):\n",
    "                with output:\n",
    "                    clear_output(wait=True) \n",
    "                    checkboxes_output = widgets.HBox(checkboxes)\n",
    "                    display(checkboxes_output)\n",
    "                    selected_values = [int(checkbox.description) for checkbox in checkboxes if checkbox.value]\n",
    "\n",
    "                    if len(selected_values) > 0:\n",
    "                        num_plots = len(selected_values)\n",
    "                        fig, ax = plt.subplots(1, num_plots, figsize=(6*num_plots, 6))\n",
    "                        if num_plots == 1:\n",
    "                            ax = [ax]\n",
    "                        for axs, value in zip(ax, selected_values):\n",
    "                            plot_butterfly_data([value], axs)  \n",
    "                    \n",
    "                    plt.show()\n",
    "\n",
    "            for checkbox in checkboxes:\n",
    "                checkbox.observe(show_selected_plots, 'value')\n",
    "            show_selected_plots(None)\n",
    "                \n",
    "                \n",
    "solar_slider = widgets.IntSlider(\n",
    "    value=150,\n",
    "    min=50,\n",
    "    max=180,\n",
    "    step=10,\n",
    "    description='f107:',\n",
    "    continuous_update=False,\n",
    "    orientation='horizontal',\n",
    "    readout=True,\n",
    "    readout_format='d',\n",
    "    layout=widgets.Layout(width='30%', visibility='visible')\n",
    ")\n",
    "\n",
    "display(show_multiple_plots_checkbox, solar_slider, output)\n",
    "solar_slider.observe(update_plot, names='value')\n",
    "show_multiple_plots_checkbox.observe(update_plot, 'value')\n",
    "plot_butterfly_data([solar_slider.value])"
   ]
  }
 ],
 "metadata": {
  "kernelspec": {
   "display_name": "Python 3 (ipykernel)",
   "language": "python",
   "name": "python3"
  },
  "language_info": {
   "codemirror_mode": {
    "name": "ipython",
    "version": 3
   },
   "file_extension": ".py",
   "mimetype": "text/x-python",
   "name": "python",
   "nbconvert_exporter": "python",
   "pygments_lexer": "ipython3",
   "version": "3.9.7"
  }
 },
 "nbformat": 4,
 "nbformat_minor": 5
}
